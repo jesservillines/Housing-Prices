{
 "cells": [
  {
   "cell_type": "code",
   "execution_count": 1,
   "id": "invalid-resident",
   "metadata": {},
   "outputs": [],
   "source": [
    "import pickle"
   ]
  },
  {
   "cell_type": "code",
   "execution_count": 4,
   "id": "olympic-greek",
   "metadata": {},
   "outputs": [],
   "source": [
    "# use the above function with open() and 'read binary' permissions to get our model back\n",
    "model_that_was_pickled = pickle.load(open('./model/model.p', 'rb'))\n",
    "\n"
   ]
  },
  {
   "cell_type": "code",
   "execution_count": 5,
   "id": "conscious-karma",
   "metadata": {},
   "outputs": [
    {
     "data": {
      "text/plain": [
       "array([-1677.4196024 ,  7860.70176491,  3209.07096107,  2962.87630228,\n",
       "       13421.06003257,    -0.        , -4695.64937663,  6593.36316477,\n",
       "        1707.19031214, -3003.36833727, -1794.13852755,  -442.00360092,\n",
       "        2296.77349173,  3826.42175098,  3075.94810474,  2032.88945913,\n",
       "        3744.87728099,  2413.84425663,  5838.20899784,  1602.2349171 ,\n",
       "         378.7386002 ,  2127.92705088, 11299.30045525,  2386.91962316,\n",
       "        1353.33995743,  6426.36564704,  3323.03810537, 22307.03522612,\n",
       "        1040.59601285,  1750.40568985])"
      ]
     },
     "execution_count": 5,
     "metadata": {},
     "output_type": "execute_result"
    }
   ],
   "source": [
    "model_that_was_pickled.coef_"
   ]
  },
  {
   "cell_type": "code",
   "execution_count": null,
   "id": "historic-roberts",
   "metadata": {},
   "outputs": [],
   "source": [
    "print(f'The model explains {100*model_that_was_pickled.score(X,y):.2f}% of the variance' + '\\n-----\\n' + 'Coefficients:')\n",
    "print(dict(zip(list(X.columns), np.round(model_that_was_pickled.coef_, 4))))"
   ]
  }
 ],
 "metadata": {
  "kernelspec": {
   "display_name": "Python 3",
   "language": "python",
   "name": "python3"
  },
  "language_info": {
   "codemirror_mode": {
    "name": "ipython",
    "version": 3
   },
   "file_extension": ".py",
   "mimetype": "text/x-python",
   "name": "python",
   "nbconvert_exporter": "python",
   "pygments_lexer": "ipython3",
   "version": "3.8.5"
  }
 },
 "nbformat": 4,
 "nbformat_minor": 5
}
