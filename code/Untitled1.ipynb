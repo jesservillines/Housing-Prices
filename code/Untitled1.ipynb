{
 "cells": [
  {
   "cell_type": "code",
   "execution_count": 1,
   "metadata": {},
   "outputs": [],
   "source": [
    "#https://github.com/PythonForForex/IEX-API-Introduction-Guide/blob/master/Jupyter%20Notebook/IEX_API.ipynb\n",
    "import numpy as np\n",
    "from datetime import datetime\n",
    "import smtplib\n",
    "import time\n",
    "#For Prediction\n",
    "from sklearn.linear_model import LinearRegression\n",
    "#from sklearn import preprocessing, cross_validation, svm\n",
    "#For Stock Data\n",
    "from iexfinance.stocks import Stock\n",
    "from iexfinance.stocks import get_historical_data"
   ]
  },
  {
   "cell_type": "code",
   "execution_count": 3,
   "metadata": {},
   "outputs": [
    {
     "name": "stdout",
     "output_type": "stream",
     "text": [
      "None\n"
     ]
    }
   ],
   "source": [
    "# import os\n",
    "# print(os.environ.get('IEX_TOKEN'))\n",
    "# print(os.environ.get('NUMBER_OF_PROCESSORS'))"
   ]
  },
  {
   "cell_type": "code",
   "execution_count": 8,
   "metadata": {},
   "outputs": [],
   "source": [
    "import os\n",
    "import requests"
   ]
  },
  {
   "cell_type": "code",
   "execution_count": 11,
   "metadata": {},
   "outputs": [],
   "source": [
    "base_url = 'https://cloud.iexapis.com/v1'\n",
    "sandbox_url = 'https://sandbox.iexapis.com/stable'\n",
    "\n",
    "token = 'k_752d4dc4f1034d42ba3b80d808fc1663'\n",
    "params = {'token': token}"
   ]
  },
  {
   "cell_type": "code",
   "execution_count": 12,
   "metadata": {},
   "outputs": [
    {
     "data": {
      "text/plain": [
       "<Response [200]>"
      ]
     },
     "execution_count": 12,
     "metadata": {},
     "output_type": "execute_result"
    }
   ],
   "source": [
    "resp = requests.get(base_url + '/status')\n",
    "resp"
   ]
  },
  {
   "cell_type": "code",
   "execution_count": 13,
   "metadata": {},
   "outputs": [
    {
     "data": {
      "text/plain": [
       "{'status': 'up',\n",
       " 'version': '1.32',\n",
       " 'time': 1608528635730,\n",
       " 'currentMonthAPICalls': 21960950814}"
      ]
     },
     "execution_count": 13,
     "metadata": {},
     "output_type": "execute_result"
    }
   ],
   "source": [
    "resp.json()"
   ]
  },
  {
   "cell_type": "markdown",
   "metadata": {},
   "source": [
    "#### Create a function to access historical data"
   ]
  },
  {
   "cell_type": "code",
   "execution_count": 14,
   "metadata": {},
   "outputs": [],
   "source": [
    "def historical_data(_symbol, _range=None, _date=None):\n",
    "    endpoint = f'{base_url}/stock/{_symbol}/chart'\n",
    "    if _range:\n",
    "        endpoint += f'/{_range}'\n",
    "    elif _date:\n",
    "        endpoint += f'/date/{_date}'\n",
    "    \n",
    "    resp = requests.get(endpoint, params=params)\n",
    "    resp.raise_for_status()\n",
    "    return pd.DataFrame(resp.json())"
   ]
  },
  {
   "cell_type": "code",
   "execution_count": null,
   "metadata": {},
   "outputs": [],
   "source": [
    "appl_3m_df = historical_data('AAPL', _range='3m')"
   ]
  },
  {
   "cell_type": "code",
   "execution_count": null,
   "metadata": {},
   "outputs": [],
   "source": []
  }
 ],
 "metadata": {
  "kernelspec": {
   "display_name": "Python 3",
   "language": "python",
   "name": "python3"
  },
  "language_info": {
   "codemirror_mode": {
    "name": "ipython",
    "version": 3
   },
   "file_extension": ".py",
   "mimetype": "text/x-python",
   "name": "python",
   "nbconvert_exporter": "python",
   "pygments_lexer": "ipython3",
   "version": "3.8.5"
  }
 },
 "nbformat": 4,
 "nbformat_minor": 4
}
