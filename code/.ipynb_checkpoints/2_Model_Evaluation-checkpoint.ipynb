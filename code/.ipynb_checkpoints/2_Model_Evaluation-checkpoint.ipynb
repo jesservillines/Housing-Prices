{
 "cells": [
  {
   "cell_type": "markdown",
   "metadata": {},
   "source": [
    "### Import Libraries"
   ]
  },
  {
   "cell_type": "code",
   "execution_count": 1,
   "metadata": {},
   "outputs": [],
   "source": [
    "# standard imports\n",
    "import numpy as np\n",
    "import pandas as pd\n",
    "import matplotlib.pyplot as plt\n",
    "import seaborn as sns\n",
    "\n",
    "# modeling imports\n",
    "from sklearn.linear_model import LinearRegression, Ridge, RidgeCV, Lasso, LassoCV\n",
    "from sklearn.preprocessing import StandardScaler, PolynomialFeatures\n",
    "from sklearn.model_selection import train_test_split, cross_val_score, GridSearchCV\n",
    "from sklearn.pipeline import Pipeline\n",
    "from sklearn import metrics"
   ]
  },
  {
   "cell_type": "markdown",
   "metadata": {},
   "source": [
    "#### Load data"
   ]
  },
  {
   "cell_type": "code",
   "execution_count": 2,
   "metadata": {
    "scrolled": true
   },
   "outputs": [],
   "source": [
    "#read in cleaned data file\n",
    "ames_clean = pd.read_csv('../datasets/ames_clean_v6.csv')"
   ]
  },
  {
   "cell_type": "code",
   "execution_count": 3,
   "metadata": {},
   "outputs": [
    {
     "data": {
      "text/plain": [
       "(2036, 28)"
      ]
     },
     "execution_count": 3,
     "metadata": {},
     "output_type": "execute_result"
    }
   ],
   "source": [
    "#shape of date file\n",
    "ames_clean.shape"
   ]
  },
  {
   "cell_type": "code",
   "execution_count": 4,
   "metadata": {},
   "outputs": [
    {
     "data": {
      "text/plain": [
       "Index(['saleprice', 'is_residential', 'neighborhood_order', 'local_conditions',\n",
       "       'age', 'was_remodeled', 'overall_qual', 'exter_qual',\n",
       "       'external_feature', 'mas_vnr_area', 'buildingtype_bystory',\n",
       "       'functional', 'lot_frontage', 'lot_area', 'developed_outside_sf',\n",
       "       'garage_qual', 'garage_fin*sqft', 'garage_cars', 'paved_drive',\n",
       "       'bsmt_qual', 'bsmt_type*sf_all', 'bsmt_exposure', 'heating_qc',\n",
       "       'kitchen_qual', 'fireplace_qu', 'quality_above_sqft', 'totrms_abvgrd',\n",
       "       'room_size'],\n",
       "      dtype='object')"
      ]
     },
     "execution_count": 4,
     "metadata": {},
     "output_type": "execute_result"
    }
   ],
   "source": [
    "#columns in data file\n",
    "ames_clean.columns"
   ]
  },
  {
   "cell_type": "markdown",
   "metadata": {},
   "source": [
    "### Prepare data for modeling"
   ]
  },
  {
   "cell_type": "code",
   "execution_count": 5,
   "metadata": {},
   "outputs": [],
   "source": [
    "#create X and y variables\n",
    "X = ames_clean.drop(columns=['saleprice'])\n",
    "y = ames_clean['saleprice']"
   ]
  },
  {
   "cell_type": "code",
   "execution_count": 6,
   "metadata": {},
   "outputs": [],
   "source": [
    "#split into training and test groups\n",
    "X_train, X_test, y_train, y_test = train_test_split(X, y, random_state = 42, test_size=.2, train_size = .8)"
   ]
  },
  {
   "cell_type": "markdown",
   "metadata": {},
   "source": [
    "#### Linear Regression Model, not scaled"
   ]
  },
  {
   "cell_type": "code",
   "execution_count": 8,
   "metadata": {},
   "outputs": [
    {
     "data": {
      "text/plain": [
       "LinearRegression()"
      ]
     },
     "execution_count": 8,
     "metadata": {},
     "output_type": "execute_result"
    }
   ],
   "source": [
    "#Instantiate, fit and score \n",
    "lr = LinearRegression()\n",
    "lr.fit(X=X_train, y=y_train)\n",
    "print(f' Unscaled Linear Regression training R^2 score: {lr.score(X=X_train, y=y_train)}')\n",
    "print(f' Unscaled Linear Regression test R^2 score: {lr.score(X_test, y_test)}')"
   ]
  },
  {
   "cell_type": "markdown",
   "metadata": {},
   "source": [
    "#### Linear Regression Model, scaled (all models here on out are scaled)"
   ]
  },
  {
   "cell_type": "code",
   "execution_count": 12,
   "metadata": {},
   "outputs": [],
   "source": [
    "sc = StandardScaler()\n",
    "Z_train = sc.fit_transform(X_train)\n",
    "Z_test = sc.transform(X_test)"
   ]
  },
  {
   "cell_type": "code",
   "execution_count": 13,
   "metadata": {},
   "outputs": [],
   "source": [
    "lr_stan = LinearRegression()\n",
    "lr_stan.fit(Z_train, y_train)\n",
    "print(f' Scaled Linear Regression training R^2 score: {lr_stan.score(Z_train, y_train)}')\n",
    "print(f' Scaled Linear Regression test R^2 score: {lr_stan.score(Z_test, y_test)}')"
   ]
  },
  {
   "cell_type": "markdown",
   "metadata": {},
   "source": [
    "#### RidgeCV Regression"
   ]
  },
  {
   "cell_type": "code",
   "execution_count": 18,
   "metadata": {},
   "outputs": [],
   "source": [
    "# Set up a list of ridge alphas to check.\n",
    "# np.logspace generates 100 values equally between 0 and 5,\n",
    "# then converts them to alphas between 10^0 and 10^5.\n",
    "r_alphas = np.logspace(0, 5, 100)\n",
    "\n",
    "# Cross-validate over our list of ridge alphas.\n",
    "ridge_cv = RidgeCV(alphas=r_alphas, scoring='r2', cv=5)\n",
    "\n",
    "# Fit model using best ridge alpha!\n",
    "ridge_cv.fit(Z_train, y_train);"
   ]
  },
  {
   "cell_type": "code",
   "execution_count": 19,
   "metadata": {},
   "outputs": [
    {
     "data": {
      "text/plain": [
       "29.150530628251758"
      ]
     },
     "execution_count": 19,
     "metadata": {},
     "output_type": "execute_result"
    }
   ],
   "source": [
    "# Here is the optimal value of alpha\n",
    "ridge_cv.alpha_"
   ]
  },
  {
   "cell_type": "code",
   "execution_count": 20,
   "metadata": {},
   "outputs": [
    {
     "name": "stdout",
     "output_type": "stream",
     "text": [
      "0.8917416153182917\n",
      "0.8874376072994777\n"
     ]
    }
   ],
   "source": [
    "print(f' RidgeCV Regression training R^2 score: {ridge_cv.score(Z_train, y_train)}')\n",
    "print(f' RidgeCV Regression test R^2 score: {ridge_cv.score(Z_test, y_test)}')"
   ]
  },
  {
   "cell_type": "markdown",
   "metadata": {},
   "source": [
    "#### LassoCV Regression"
   ]
  },
  {
   "cell_type": "code",
   "execution_count": 21,
   "metadata": {},
   "outputs": [],
   "source": [
    "# Set up a list of Lasso alphas to check.\n",
    "l_alphas = np.logspace(-3, 3, 500)\n",
    "\n",
    "# Cross-validate over our list of Lasso alphas.\n",
    "lasso_cv = LassoCV(alphas=l_alphas, cv=5, max_iter=10000)\n",
    "\n",
    "# Fit model using best ridge alpha!\n",
    "lasso_cv.fit(Z_train, y_train);\n",
    "\n",
    "#best found alpha\n",
    "lasso_cv.alpha_"
   ]
  },
  {
   "cell_type": "code",
   "execution_count": 23,
   "metadata": {},
   "outputs": [
    {
     "name": "stdout",
     "output_type": "stream",
     "text": [
      "0.8916711732174127\n",
      "0.8869310542988934\n"
     ]
    }
   ],
   "source": [
    "print(f' LassoCV Regression training R^2 score: {lasso_cv.score(Z_train, y_train)}')\n",
    "print(f' LassoCV Regression test R^2 score: {lasso_cv.score(Z_test, y_test)}')"
   ]
  },
  {
   "cell_type": "markdown",
   "metadata": {},
   "source": [
    "## Models utilizing Pipeline and Gridsearch\n",
    "##### Pipeline saves time by executing scaling, model initiation and polynomial feature creation.\n",
    "##### Gridsearch searches for the best values in a given list of parameters"
   ]
  },
  {
   "cell_type": "markdown",
   "metadata": {},
   "source": [
    "#### Lasso Model"
   ]
  },
  {
   "cell_type": "code",
   "execution_count": 31,
   "metadata": {},
   "outputs": [],
   "source": [
    "pipe_power = Pipeline([\n",
    "    #('poly', PolynomialFeatures()),\n",
    "    ('sc', StandardScaler()),\n",
    "    ('lassocv', Lasso())\n",
    "])"
   ]
  },
  {
   "cell_type": "code",
   "execution_count": 32,
   "metadata": {},
   "outputs": [],
   "source": [
    "lasso_params = {'lassocv__alpha':np.logspace(-5, 5, 500),\n",
    "               'lassocv__max_iter':[5000]}"
   ]
  },
  {
   "cell_type": "code",
   "execution_count": 33,
   "metadata": {},
   "outputs": [],
   "source": [
    "lasso_pipe_gridsearch = GridSearchCV(pipe_power, \n",
    "                               param_grid=lasso_params)"
   ]
  },
  {
   "cell_type": "code",
   "execution_count": 34,
   "metadata": {},
   "outputs": [
    {
     "data": {
      "text/plain": [
       "GridSearchCV(estimator=Pipeline(steps=[('sc', StandardScaler()),\n",
       "                                       ('lassocv', Lasso())]),\n",
       "             param_grid={'lassocv__alpha': array([1.00000000e-05, 1.02331658e-05, 1.04717682e-05, 1.07159340e-05,\n",
       "       1.09657929e-05, 1.12214777e-05, 1.14831241e-05, 1.17508713e-05,\n",
       "       1.20248614e-05, 1.23052400e-05, 1.25921561e-05, 1.28857621e-05,\n",
       "       1.31862140e-05, 1.34936714e-05, 1.38082977e-05, 1.41...\n",
       "       5.88531578e+04, 6.02254120e+04, 6.16296626e+04, 6.30666554e+04,\n",
       "       6.45371540e+04, 6.60419396e+04, 6.75818117e+04, 6.91575883e+04,\n",
       "       7.07701066e+04, 7.24202233e+04, 7.41088152e+04, 7.58367791e+04,\n",
       "       7.76050334e+04, 7.94145172e+04, 8.12661920e+04, 8.31610415e+04,\n",
       "       8.51000725e+04, 8.70843150e+04, 8.91148232e+04, 9.11926760e+04,\n",
       "       9.33189772e+04, 9.54948564e+04, 9.77214697e+04, 1.00000000e+05]),\n",
       "                         'lassocv__max_iter': [5000]})"
      ]
     },
     "execution_count": 34,
     "metadata": {},
     "output_type": "execute_result"
    }
   ],
   "source": [
    "lasso_pipe_gridsearch.fit(X_train, y_train)\n",
    "lasso_pipe_gridsearch.best_estimator_"
   ]
  },
  {
   "cell_type": "code",
   "execution_count": 35,
   "metadata": {},
   "outputs": [
    {
     "data": {
      "text/plain": [
       "0.8861658589906888"
      ]
     },
     "execution_count": 35,
     "metadata": {},
     "output_type": "execute_result"
    }
   ],
   "source": [
    "lasso_pipe_gridsearch.best_score_"
   ]
  },
  {
   "cell_type": "markdown",
   "metadata": {},
   "source": [
    "#### Lasso Model with polynomial features"
   ]
  },
  {
   "cell_type": "code",
   "execution_count": 38,
   "metadata": {},
   "outputs": [],
   "source": [
    "lasso_poly_pipe = Pipeline([\n",
    "    ('poly', PolynomialFeatures(degree = 3)), #uncomment me to release to power\n",
    "    ('sc', StandardScaler()),\n",
    "    ('lassocv', Lasso())\n",
    "])\n",
    "\n",
    "lasso_poly_params = {'lassocv__alpha':np.logspace(1, 2.5, 50),\n",
    "               'lassocv__max_iter':[10000],\n",
    "                 'lassocv__tol':[.01]}\n",
    "\n",
    "pipe_gridsearch = GridSearchCV(lasso_poly_pipe, \n",
    "                                param_grid=lasso_poly_params,)\n"
   ]
  },
  {
   "cell_type": "code",
   "execution_count": 40,
   "metadata": {},
   "outputs": [
    {
     "data": {
      "text/plain": [
       "GridSearchCV(estimator=Pipeline(steps=[('poly', PolynomialFeatures(degree=3)),\n",
       "                                       ('sc', StandardScaler()),\n",
       "                                       ('lassocv', Lasso())]),\n",
       "             param_grid={'lassocv__alpha': array([ 10.        ,  10.73030941,  11.51395399,  12.35482888,\n",
       "        13.25711366,  14.22529313,  15.26417967,  16.37893707,\n",
       "        17.57510625,  18.85863279,  20.23589648,  21.71374303,\n",
       "        23.29951811,  25.00110383,  26.82695795,  28.78615592,\n",
       "        30.8884...\n",
       "        54.28675439,  58.25136712,  62.50551925,  67.07035611,\n",
       "        71.9685673 ,  77.22449946,  82.86427729,  88.91593339,\n",
       "        95.40954763, 102.37739663, 109.8541142 , 117.87686348,\n",
       "       126.48552169, 135.7228783 , 145.63484775, 156.27069765,\n",
       "       167.68329368, 179.92936233, 193.06977289, 207.16983999,\n",
       "       222.29964825, 238.53440064, 255.95479227, 274.64741148,\n",
       "       294.70517026, 316.22776602]),\n",
       "                         'lassocv__max_iter': [10000], 'lassocv__tol': [0.01]})"
      ]
     },
     "execution_count": 40,
     "metadata": {},
     "output_type": "execute_result"
    }
   ],
   "source": [
    "pipe_gridsearch.fit(X_train, y_train)\n",
    "pipe_gridsearch.best_estimator_"
   ]
  },
  {
   "cell_type": "code",
   "execution_count": 41,
   "metadata": {},
   "outputs": [
    {
     "data": {
      "text/plain": [
       "0.9183873600455857"
      ]
     },
     "execution_count": 41,
     "metadata": {},
     "output_type": "execute_result"
    }
   ],
   "source": [
    "pipe_gridsearch.best_score_"
   ]
  }
 ],
 "metadata": {
  "kernelspec": {
   "display_name": "Python 3",
   "language": "python",
   "name": "python3"
  },
  "language_info": {
   "codemirror_mode": {
    "name": "ipython",
    "version": 3
   },
   "file_extension": ".py",
   "mimetype": "text/x-python",
   "name": "python",
   "nbconvert_exporter": "python",
   "pygments_lexer": "ipython3",
   "version": "3.8.5"
  }
 },
 "nbformat": 4,
 "nbformat_minor": 4
}
