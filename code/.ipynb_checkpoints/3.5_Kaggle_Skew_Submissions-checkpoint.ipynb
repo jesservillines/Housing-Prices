{
 "cells": [
  {
   "cell_type": "markdown",
   "metadata": {},
   "source": [
    "### Import Libraries"
   ]
  },
  {
   "cell_type": "code",
   "execution_count": 1,
   "metadata": {},
   "outputs": [],
   "source": [
    "import pandas as pd\n",
    "import numpy as np\n",
    "import matplotlib.pyplot as plt\n",
    "import seaborn as sns\n",
    "\n",
    "# modeling imports\n",
    "from sklearn.linear_model import LinearRegression, Ridge, RidgeCV, Lasso, LassoCV, ElasticNetCV, ElasticNet\n",
    "from sklearn.preprocessing import StandardScaler, PolynomialFeatures\n",
    "from sklearn.model_selection import train_test_split, cross_val_score, GridSearchCV\n",
    "from sklearn.pipeline import Pipeline\n",
    "from sklearn import metrics\n",
    "from sklearn import decomposition\n",
    "\n",
    "#set_style\n",
    "plt.style.use('fivethirtyeight')\n",
    "\n",
    "%config InlineBackend.figure_format = 'retina'"
   ]
  },
  {
   "cell_type": "markdown",
   "metadata": {},
   "source": [
    "### Import raw training data "
   ]
  },
  {
   "cell_type": "code",
   "execution_count": 2,
   "metadata": {},
   "outputs": [],
   "source": [
    "ames = pd.read_csv('../datasets/test.csv')"
   ]
  },
  {
   "cell_type": "code",
   "execution_count": 3,
   "metadata": {},
   "outputs": [
    {
     "data": {
      "text/plain": [
       "(878, 80)"
      ]
     },
     "execution_count": 3,
     "metadata": {},
     "output_type": "execute_result"
    }
   ],
   "source": [
    "ames.shape"
   ]
  },
  {
   "cell_type": "markdown",
   "metadata": {},
   "source": [
    "#### Apply same transformations as to model training data"
   ]
  },
  {
   "cell_type": "code",
   "execution_count": 4,
   "metadata": {},
   "outputs": [],
   "source": [
    "#want to change columns names to lower/snake_case so a little easier to work with\n",
    "ames.columns = ames.columns.str.lower().str.replace(' ', '_')"
   ]
  },
  {
   "cell_type": "code",
   "execution_count": 5,
   "metadata": {},
   "outputs": [],
   "source": [
    "#increase pandas default max_rows so I can view all columns at once\n",
    "pd.options.display.max_rows = 100\n",
    "pd.options.display.max_columns = 100"
   ]
  },
  {
   "cell_type": "markdown",
   "metadata": {},
   "source": [
    "### Nulls "
   ]
  },
  {
   "cell_type": "markdown",
   "metadata": {},
   "source": [
    "#### Lot Frontage "
   ]
  },
  {
   "cell_type": "code",
   "execution_count": 6,
   "metadata": {},
   "outputs": [],
   "source": [
    "#replace np.nan with average for lot_config of that type\n",
    "ames.loc[(ames['lot_frontage'].isna()) & (ames['lot_config'] == 'Corner'), 'lot_frontage'] = 83.25\n",
    "ames.loc[(ames['lot_frontage'].isna()) & (ames['lot_config'] == 'CulDSac'), 'lot_frontage'] = 54.734375        \n",
    "ames.loc[(ames['lot_frontage'].isna()) & (ames['lot_config'] == 'FR2'), 'lot_frontage'] = 60.836735        \n",
    "ames.loc[(ames['lot_frontage'].isna()) & (ames['lot_config'] == 'FR3'), 'lot_frontage'] = 87.000000        \n",
    "ames.loc[(ames['lot_frontage'].isna()) & (ames['lot_config'] == 'Inside'), 'lot_frontage'] = 66.759571        "
   ]
  },
  {
   "cell_type": "markdown",
   "metadata": {},
   "source": [
    "#### Alley"
   ]
  },
  {
   "cell_type": "code",
   "execution_count": 7,
   "metadata": {},
   "outputs": [],
   "source": [
    "ames['alley'] = ames['alley'].replace(np.nan, 'NA') "
   ]
  },
  {
   "cell_type": "markdown",
   "metadata": {},
   "source": [
    "#### Masonry veneer type and area"
   ]
  },
  {
   "cell_type": "code",
   "execution_count": 8,
   "metadata": {},
   "outputs": [],
   "source": [
    "ames['mas_vnr_type'] = ames['mas_vnr_type'].replace(np.nan, 'None') #replace masonry np.nan with None\n",
    "ames['mas_vnr_area'] = ames['mas_vnr_area'].replace(np.nan, 0) #replace masonry np.nan with 0"
   ]
  },
  {
   "cell_type": "markdown",
   "metadata": {},
   "source": [
    "#### Basement related:  \n",
    "* bsmt_qual (Evaluates the height of the basement), \n",
    "* bsmt_cond (Evaluates the general condition of the basement), \n",
    "* bsmt_exposure (Refers to walkout or garden level walls)\n",
    "* bsmtfin_type_1\n",
    "* bsmtfin_sf_1\n",
    "* bsmtfin_type_2\n",
    "* bsmtfin_sf_2\n",
    "* bsmt_unf_sf\n",
    "* total_bsmt_sf\n",
    "* bsmt_full_bath\n",
    "* bsmt_half_bath"
   ]
  },
  {
   "cell_type": "code",
   "execution_count": 9,
   "metadata": {},
   "outputs": [],
   "source": [
    "#these all receive an NA if no basement\n",
    "basement_to_na = ['bsmt_qual', 'bsmt_cond', 'bsmt_exposure', 'bsmtfin_type_1', \n",
    "       'bsmtfin_type_2']\n",
    "\n",
    "#these receive 0sqft if basement is NA\n",
    "basement_to_zero = ['bsmtfin_sf_2', 'bsmt_unf_sf', 'total_bsmt_sf', 'bsmtfin_sf_1', 'bsmt_full_bath',\n",
    "       'bsmt_half_bath']\n",
    "\n",
    "for i in basement_to_na:\n",
    "    ames[i] = ames[i].replace(np.nan, 'NA') "
   ]
  },
  {
   "cell_type": "code",
   "execution_count": 10,
   "metadata": {},
   "outputs": [],
   "source": [
    "#set basement sqft to 0 IF basement is NA, else drop as incomplete basement data and only 1 null record for each    \n",
    "for i in basement_to_zero:\n",
    "    ames[i] = ames[i].replace(np.nan, 0) "
   ]
  },
  {
   "cell_type": "markdown",
   "metadata": {},
   "source": [
    "#### fireplace_qu"
   ]
  },
  {
   "cell_type": "code",
   "execution_count": 11,
   "metadata": {},
   "outputs": [],
   "source": [
    "ames['fireplace_qu'] = ames['fireplace_qu'].replace(np.nan, 'NA') #NA for 'No Fireplace'"
   ]
  },
  {
   "cell_type": "markdown",
   "metadata": {},
   "source": [
    "#### Garage related:\n",
    "* garage_type\n",
    "* garage_yr_blt\n",
    "* garage_finish\n",
    "* garage_cars\n",
    "* garage_area\n",
    "* garage_qual\n",
    "* garage_cond\n"
   ]
  },
  {
   "cell_type": "code",
   "execution_count": 12,
   "metadata": {},
   "outputs": [],
   "source": [
    "#create two lists, one for catagorical and one for numeric\n",
    "\n",
    "garage_to_na = ['garage_type','garage_finish','garage_qual','garage_cond']\n",
    "garage_to_0 = ['garage_yr_blt','garage_cars', 'garage_area']\n",
    "\n",
    "for i in garage_to_na:\n",
    "    ames[i] = ames[i].replace(np.nan, 'NA') "
   ]
  },
  {
   "cell_type": "code",
   "execution_count": 13,
   "metadata": {},
   "outputs": [],
   "source": [
    "for i in garage_to_0:\n",
    "    ames[i] = ames[i].replace(np.nan, 0) "
   ]
  },
  {
   "cell_type": "markdown",
   "metadata": {},
   "source": [
    "#### pool_qc"
   ]
  },
  {
   "cell_type": "code",
   "execution_count": 14,
   "metadata": {},
   "outputs": [],
   "source": [
    "for i in ames[(ames['pool_qc'].isna()) & (ames['pool_area'] == 0)]:\n",
    "    ames['pool_qc'] = ames['pool_qc'].replace(np.nan, 'NA')     "
   ]
  },
  {
   "cell_type": "markdown",
   "metadata": {},
   "source": [
    "#### fence"
   ]
  },
  {
   "cell_type": "code",
   "execution_count": 15,
   "metadata": {},
   "outputs": [],
   "source": [
    "ames['fence'] = ames['fence'].replace(np.nan, 'NA') "
   ]
  },
  {
   "cell_type": "markdown",
   "metadata": {},
   "source": [
    "#### misc_feature"
   ]
  },
  {
   "cell_type": "code",
   "execution_count": 16,
   "metadata": {},
   "outputs": [],
   "source": [
    "for i in ames[(ames['misc_feature'].isna()) & (ames['misc_val'] == 0)]:\n",
    "    ames['misc_feature'] = ames['misc_feature'].replace(np.nan, 'NA')  "
   ]
  },
  {
   "cell_type": "markdown",
   "metadata": {},
   "source": [
    "### Final Null Check"
   ]
  },
  {
   "cell_type": "code",
   "execution_count": 17,
   "metadata": {
    "scrolled": true
   },
   "outputs": [
    {
     "data": {
      "text/plain": [
       "id                 0\n",
       "pid                0\n",
       "ms_subclass        0\n",
       "ms_zoning          0\n",
       "lot_frontage       0\n",
       "lot_area           0\n",
       "street             0\n",
       "alley              0\n",
       "lot_shape          0\n",
       "land_contour       0\n",
       "utilities          0\n",
       "lot_config         0\n",
       "land_slope         0\n",
       "neighborhood       0\n",
       "condition_1        0\n",
       "condition_2        0\n",
       "bldg_type          0\n",
       "house_style        0\n",
       "overall_qual       0\n",
       "overall_cond       0\n",
       "year_built         0\n",
       "year_remod/add     0\n",
       "roof_style         0\n",
       "roof_matl          0\n",
       "exterior_1st       0\n",
       "exterior_2nd       0\n",
       "mas_vnr_type       0\n",
       "mas_vnr_area       0\n",
       "exter_qual         0\n",
       "exter_cond         0\n",
       "foundation         0\n",
       "bsmt_qual          0\n",
       "bsmt_cond          0\n",
       "bsmt_exposure      0\n",
       "bsmtfin_type_1     0\n",
       "bsmtfin_sf_1       0\n",
       "bsmtfin_type_2     0\n",
       "bsmtfin_sf_2       0\n",
       "bsmt_unf_sf        0\n",
       "total_bsmt_sf      0\n",
       "heating            0\n",
       "heating_qc         0\n",
       "central_air        0\n",
       "electrical         1\n",
       "1st_flr_sf         0\n",
       "2nd_flr_sf         0\n",
       "low_qual_fin_sf    0\n",
       "gr_liv_area        0\n",
       "bsmt_full_bath     0\n",
       "bsmt_half_bath     0\n",
       "full_bath          0\n",
       "half_bath          0\n",
       "bedroom_abvgr      0\n",
       "kitchen_abvgr      0\n",
       "kitchen_qual       0\n",
       "totrms_abvgrd      0\n",
       "functional         0\n",
       "fireplaces         0\n",
       "fireplace_qu       0\n",
       "garage_type        0\n",
       "garage_yr_blt      0\n",
       "garage_finish      0\n",
       "garage_cars        0\n",
       "garage_area        0\n",
       "garage_qual        0\n",
       "garage_cond        0\n",
       "paved_drive        0\n",
       "wood_deck_sf       0\n",
       "open_porch_sf      0\n",
       "enclosed_porch     0\n",
       "3ssn_porch         0\n",
       "screen_porch       0\n",
       "pool_area          0\n",
       "pool_qc            0\n",
       "fence              0\n",
       "misc_feature       0\n",
       "misc_val           0\n",
       "mo_sold            0\n",
       "yr_sold            0\n",
       "sale_type          0\n",
       "dtype: int64"
      ]
     },
     "execution_count": 17,
     "metadata": {},
     "output_type": "execute_result"
    }
   ],
   "source": [
    "ames.isnull().sum()"
   ]
  },
  {
   "cell_type": "code",
   "execution_count": 18,
   "metadata": {},
   "outputs": [],
   "source": [
    "#catch anything that was missed, \n",
    "ames.fillna(0,inplace= True)"
   ]
  },
  {
   "cell_type": "markdown",
   "metadata": {},
   "source": [
    "## Data Transformations to get model features"
   ]
  },
  {
   "cell_type": "code",
   "execution_count": 19,
   "metadata": {
    "scrolled": true
   },
   "outputs": [],
   "source": [
    "#columns I want to replace values in\n",
    "ames_ordinal_str_columns = ames[['lot_shape','utilities','land_slope','exter_qual', \n",
    "                 'exter_cond','bsmt_qual',\n",
    "       'bsmt_cond', 'bsmt_exposure', 'bsmtfin_type_1','bsmtfin_type_2','heating_qc','electrical','kitchen_qual',\n",
    "                'functional','fireplace_qu','garage_finish','garage_qual','garage_cond','paved_drive','pool_qc','fence']]\n",
    "\n",
    "dict_ordinal = {\n",
    "    #overall_qual, overall_cond,exter_qual,exter_cond,bsmt_qual,bsmt_cond,bsmt_exposure,heatingqc,kitchenqual\n",
    "    #firplacequ,garage_qual,garage_cond,pool_qc,fence\n",
    "    'Ex': 5,\n",
    "    'Gd': 4,\n",
    "    'TA': 3,\n",
    "    'Fa': 2,\n",
    "    'Po': 1,\n",
    "    'NA': 0,\n",
    "     #lot_shape\n",
    "    'Reg':4,\n",
    "    'IR1':3,\n",
    "    'IR2':2,\n",
    "    'IR3':1,\n",
    "    #utilities\n",
    "    'AllPub':4,\n",
    "    'NoSewr':3,\n",
    "    'NoSeWa':2,\n",
    "    'ELO':1,\n",
    "    #land_slope\n",
    "    'Gtl':3,\n",
    "    'Mod':2,\n",
    "    'Sev':1,\n",
    "    #bsmt_exposure\n",
    "    'Av': 3,\n",
    "    'Mn': 2,\n",
    "    'No': 1,\n",
    "    #bsmtfin_type_1, bsmtfin_type_1\n",
    "    'GLQ':6,\n",
    "    'ALQ':5,\n",
    "    'BLQ':4,\n",
    "    'Rec':3,\n",
    "    'LwQ':2,\n",
    "    'Unf':1,\n",
    "    #Electrical\n",
    "    'SBrkr':1,\n",
    "    'FuseA':0,\n",
    "    'FuseF':0,\n",
    "    'FuseP':0,\n",
    "    'Mix':0,\n",
    "    #Functional\n",
    "    'Typ':1,\n",
    "    'Min1':0,\n",
    "    'Min2':0,\n",
    "    'Mod':0,\n",
    "    'Maj1':0,\n",
    "    'Maj2':0,\n",
    "    'Sev':0,\n",
    "    'Sal':0,\n",
    "    #garage_finish    \n",
    "    'Fin': 3,\n",
    "    'RFn': 2,\n",
    "    'Unf':1,\n",
    "    #paved_drive\n",
    "    'Y' : 2,\n",
    "    'P' : 1,\n",
    "    'N' : 0,\n",
    "    #fence\n",
    "    'GdPrv':4,\n",
    "    'MnPrv':3,\n",
    "    'GdWo':2,\n",
    "    'MnWw':1   \n",
    "}\n",
    "\n",
    "#loop to get the job done\n",
    "for i in ames_ordinal_str_columns.columns:\n",
    "    ames.replace({i: dict_ordinal},inplace = True)"
   ]
  },
  {
   "cell_type": "code",
   "execution_count": 20,
   "metadata": {},
   "outputs": [],
   "source": [
    "#Create neighborhood ranking\n",
    "ames['neighborhood_order'] = ames['neighborhood']\n",
    "ames_ordinal_str_columns = ames[['neighborhood_order']]\n",
    "\n",
    "dict_ordinal = {\n",
    "    'MeadowV': 1,\n",
    "    'IDOTRR' : 1,\n",
    "    'BrDale' : 1,\n",
    "    'OldTown': 1,\n",
    "    'BrkSide': 1,\n",
    "    'Edwards': 1,\n",
    "    'SWISU': 1,\n",
    "    'Landmrk':2,\n",
    "    'Sawyer':2,\n",
    "    'NPkVill':2,\n",
    "    'Blueste':2,\n",
    "    'NAmes':2,\n",
    "    'Mitchel':2,\n",
    "    'SawyerW':2,\n",
    "    'Greens':3,\n",
    "    'Gilbert':3,\n",
    "    'NWAmes':3,\n",
    "    'Blmngtn':3,\n",
    "    'CollgCr':3,\n",
    "    'Crawfor':3,\n",
    "    'ClearCr':3,\n",
    "    'Somerst':4,\n",
    "    'Timber':4,\n",
    "    'Veenker':4,\n",
    "    'GrnHill':4,\n",
    "    'StoneBr':4,\n",
    "    'NoRidge':4,\n",
    "    'NridgHt':4,\n",
    "        }\n",
    "\n",
    "for i in ames_ordinal_str_columns.columns:\n",
    "    ames.replace({i: dict_ordinal},inplace = True)"
   ]
  },
  {
   "cell_type": "code",
   "execution_count": 21,
   "metadata": {},
   "outputs": [],
   "source": [
    "#Type of sale\n",
    "ames['sale_type_order'] = ames['sale_type']\n",
    "ames_ordinal_str_columns = ames[['sale_type_order']]\n",
    "\n",
    "dict_ordinal = {\n",
    "   'ConLw':1,\n",
    "    'Oth':1,\n",
    "    'ConLD':1,\n",
    "    'COD':1,\n",
    "    'WD':2,\n",
    "    'WD ':2,\n",
    "    'CWD':3,\n",
    "    'ConLI':3,\n",
    "    'Con':3,\n",
    "    'New':3\n",
    "        }\n",
    "\n",
    "#loop to get the job done\n",
    "for i in ames_ordinal_str_columns.columns:\n",
    "    ames.replace({i: dict_ordinal},inplace = True)"
   ]
  },
  {
   "cell_type": "code",
   "execution_count": 22,
   "metadata": {},
   "outputs": [],
   "source": [
    "ames['yr*rem'] = ames['year_remod/add'] * ames['year_built']"
   ]
  },
  {
   "cell_type": "code",
   "execution_count": 23,
   "metadata": {},
   "outputs": [],
   "source": [
    "ames['basement_overall'] = ames['bsmt_qual'] *ames['bsmt_exposure']"
   ]
  },
  {
   "cell_type": "code",
   "execution_count": 24,
   "metadata": {},
   "outputs": [],
   "source": [
    "ames['bsmt_type*sf_all'] = (ames['bsmtfin_type_1']*ames['bsmtfin_sf_1']) + (ames['bsmtfin_type_2']*ames['bsmtfin_sf_2']) #quality*sf interaction variable"
   ]
  },
  {
   "cell_type": "code",
   "execution_count": 25,
   "metadata": {},
   "outputs": [],
   "source": [
    "ames['garage_qual*cond'] = ames['garage_qual']*ames['garage_cond']"
   ]
  },
  {
   "cell_type": "code",
   "execution_count": 26,
   "metadata": {},
   "outputs": [],
   "source": [
    " #this is the shop variable\n",
    "ames['garage_fin*sqft'] = ames['garage_area']*ames['garage_finish']"
   ]
  },
  {
   "cell_type": "code",
   "execution_count": 27,
   "metadata": {},
   "outputs": [],
   "source": [
    "#total finished sqft above ground\n",
    "ames['quality_above_sqft'] = (ames['1st_flr_sf']+ames['2nd_flr_sf']) - ames['low_qual_fin_sf']"
   ]
  },
  {
   "cell_type": "code",
   "execution_count": 28,
   "metadata": {},
   "outputs": [],
   "source": [
    "#combine basment baths\n",
    "ames['bsmt_baths'] = ames['bsmt_full_bath']+(ames['bsmt_half_bath']/2) "
   ]
  },
  {
   "cell_type": "code",
   "execution_count": 29,
   "metadata": {},
   "outputs": [],
   "source": [
    "#combine upstairs baths\n",
    "ames['above_baths'] = ames['full_bath']+(ames['half_bath']/2) "
   ]
  },
  {
   "cell_type": "code",
   "execution_count": 30,
   "metadata": {},
   "outputs": [],
   "source": [
    "#I like this all bath feature, more how I think about baths in a home.\n",
    "ames['all_baths'] = ames['above_baths'] + ames['bsmt_baths'] "
   ]
  },
  {
   "cell_type": "code",
   "execution_count": 31,
   "metadata": {},
   "outputs": [],
   "source": [
    "#sqft per room w/o baths. This performs better than with baths.\n",
    "ames['room_size'] = ames['gr_liv_area'] / (ames['totrms_abvgrd']) "
   ]
  },
  {
   "cell_type": "code",
   "execution_count": 32,
   "metadata": {},
   "outputs": [],
   "source": [
    "#combine different porches as a measure of developed outside space for houses. \n",
    "ames['developed_outside_sf'] = ames['open_porch_sf']+ ames['screen_porch'] + ames['enclosed_porch'] +ames['3ssn_porch'] +ames['wood_deck_sf'] "
   ]
  },
  {
   "cell_type": "code",
   "execution_count": 33,
   "metadata": {},
   "outputs": [],
   "source": [
    "#dummy for if house has masonry or not\n",
    "ames['mas_vnr_type_dummy'] = ames['mas_vnr_type']\n",
    "ames_ordinal_str_columns = ames[['mas_vnr_type_dummy']]\n",
    "\n",
    "dict_ordinal = {\n",
    "   'BrkCmn':1,\n",
    "    'None':0,\n",
    "    'CBlock':1,\n",
    "    'BrkFace':1,\n",
    "    'Stone':1,   \n",
    "        }\n",
    "\n",
    "#loop to get the job done\n",
    "for i in ames_ordinal_str_columns.columns:\n",
    "    ames.replace({i: dict_ordinal},inplace = True)"
   ]
  },
  {
   "cell_type": "code",
   "execution_count": 34,
   "metadata": {},
   "outputs": [],
   "source": [
    "#age of property at time of sale\n",
    "ames['age'] = ames['yr_sold'] - ames['year_built'] "
   ]
  },
  {
   "cell_type": "code",
   "execution_count": 35,
   "metadata": {},
   "outputs": [],
   "source": [
    "#dummy for if property was remodeled\n",
    "ames['was_remodeled'] =  ames['year_remod/add'] - ames['year_built'] \n",
    "ames['was_remodeled'] = [1 if i> 0 else 0 for i in ames['was_remodeled']];"
   ]
  },
  {
   "cell_type": "code",
   "execution_count": 36,
   "metadata": {},
   "outputs": [],
   "source": [
    "#dummy for if property is residential\n",
    "ames['is_residential'] = ames['ms_zoning']\n",
    "ames_ordinal_str_columns = ames[['is_residential']]\n",
    "\n",
    "dict_ordinal = {\n",
    "   'A (agr)':0,\n",
    "    'I (all)':0,\n",
    "    'C (all)':0,\n",
    "    'RM':1,\n",
    "    'RH':1,\n",
    "    'RL':1,\n",
    "    'FV':1,\n",
    "        }\n",
    "\n",
    "#loop to get the job done\n",
    "for i in ames_ordinal_str_columns.columns:\n",
    "    ames.replace({i: dict_ordinal},inplace = True)"
   ]
  },
  {
   "cell_type": "code",
   "execution_count": 37,
   "metadata": {},
   "outputs": [],
   "source": [
    "#2 if by positive feature, 1 if normal, 0 if negative feature. \n",
    "ames['positive_condition1'] = ames['condition_1']\n",
    "ames['positive_condition2'] = ames['condition_2']\n",
    "ames_ordinal_str_columns = ames[['positive_condition2', 'positive_condition1']]\n",
    "\n",
    "\n",
    "dict_ordinal = {\n",
    "   'Artery':0,\n",
    "    'RRNe':0,\n",
    "    'RRAe':0,\n",
    "    'Feedr':0,\n",
    "    'RRAn':0,\n",
    "    'Norm':1,\n",
    "    'RRNn':0,\n",
    "    'PosN':2,\n",
    "    'PosA':2,\n",
    "        }\n",
    "\n",
    "#loop to get the job done\n",
    "for i in ames_ordinal_str_columns.columns:\n",
    "    ames.replace({i: dict_ordinal},inplace = True)"
   ]
  },
  {
   "cell_type": "code",
   "execution_count": 38,
   "metadata": {},
   "outputs": [],
   "source": [
    "#combine conditions for a local_condition column\n",
    "ames['local_conditions'] = ames['positive_condition1']+ames['positive_condition2']"
   ]
  },
  {
   "cell_type": "code",
   "execution_count": 39,
   "metadata": {},
   "outputs": [],
   "source": [
    "#Order Exterior house features \n",
    "ames['exterior_ordinal1'] = ames['exterior_1st']\n",
    "ames['exterior_ordinal2'] = ames['exterior_2nd']\n",
    "ames_ordinal_str_columns = ames[['exterior_ordinal2', 'exterior_ordinal1']]\n",
    "\n",
    "dict_ordinal = {\n",
    "    'AsphShn':1,\n",
    "    'CBlock':1,\n",
    "    'AsbShng':1,\n",
    "    'Brk Cmn':2,\n",
    "    'BrkComm':2,\n",
    "     'Stucco':2,\n",
    "    'PreCast':2,\n",
    "    'Other':3,\n",
    "    'Wd Shng':3,\n",
    "    'Wd Sdng':3,\n",
    "    'MetalSd':3,\n",
    "    'WdShing':3,\n",
    "    'HdBoard':3,      \n",
    "    'Plywood':4,\n",
    "    'BrkFace':5,       \n",
    "    'VinylSd':5,\n",
    "    'CmentBd':5,\n",
    "    'CemntBd':5,\n",
    "    'Stone':5,    \n",
    "    'ImStucc':5,    \n",
    "        }\n",
    "#loop to get the job done\n",
    "for i in ames_ordinal_str_columns.columns:\n",
    "    ames.replace({i: dict_ordinal},inplace = True)"
   ]
  },
  {
   "cell_type": "code",
   "execution_count": 40,
   "metadata": {},
   "outputs": [],
   "source": [
    "#combine external ordered house features\n",
    "ames['external_feature'] = ames['exterior_ordinal1'] + ames['exterior_ordinal2']"
   ]
  },
  {
   "cell_type": "code",
   "execution_count": 41,
   "metadata": {},
   "outputs": [],
   "source": [
    "ames = pd.get_dummies(data = ames, columns=['bldg_type'], drop_first=True)"
   ]
  },
  {
   "cell_type": "code",
   "execution_count": 42,
   "metadata": {},
   "outputs": [],
   "source": [
    "# dummy for hip/nicer roof styles\n",
    "ames['is_hip_roof'] = ames['roof_style'] \n",
    "ames_ordinal_str_columns = ames[['is_hip_roof']]\n",
    "\n",
    "dict_ordinal = {\n",
    "    'Gambrel':0,\n",
    "    'Mansard':0,\n",
    "    'Gable':0,\n",
    "    'Flat':1,\n",
    "    'Shed':1,\n",
    "     'Hip':1,   \n",
    "        }\n",
    "#loop to get the job done\n",
    "for i in ames_ordinal_str_columns.columns:\n",
    "    ames.replace({i: dict_ordinal},inplace = True)"
   ]
  },
  {
   "cell_type": "code",
   "execution_count": 43,
   "metadata": {},
   "outputs": [],
   "source": [
    "# bin before dummy. \n",
    "ames['house_style_condensed'] = ames['house_style'] \n",
    "ames_ordinal_str_columns = ames[['house_style_condensed']]\n",
    "\n",
    "dict_ordinal = {\n",
    "    '1.5Unf':1.5,\n",
    "    '1.5Fin':1.5,\n",
    "    'SFoyer':1.5,\n",
    "    'SLvl':1,\n",
    "    '1Story':1,\n",
    "     '2.5Unf':2,\n",
    "    '2Story':2,\n",
    "    '2.5Fin':2    \n",
    "        }\n",
    "#loop to get the job done\n",
    "for i in ames_ordinal_str_columns.columns:\n",
    "    ames.replace({i: dict_ordinal},inplace = True)"
   ]
  },
  {
   "cell_type": "code",
   "execution_count": 44,
   "metadata": {},
   "outputs": [],
   "source": [
    "#dummy building type\n",
    "ames = pd.get_dummies(data = ames, columns=['house_style_condensed'], drop_first=True)"
   ]
  },
  {
   "cell_type": "code",
   "execution_count": 45,
   "metadata": {},
   "outputs": [],
   "source": [
    "#set ames_eval to the features wanted for model\n",
    "ames_eval = ames[['id','age','neighborhood_order','local_conditions','was_remodeled','overall_qual', \n",
    "                  'house_style_condensed_1.5', 'house_style_condensed_2.0','exter_qual','external_feature',\n",
    "                  'bldg_type_TwnhsE','bldg_type_Twnhs','bldg_type_2fmCon', 'is_hip_roof','mas_vnr_area',  \n",
    "                  'functional', 'lot_frontage', 'lot_area','developed_outside_sf'\n",
    "                  ,'garage_fin*sqft','garage_cars', 'paved_drive',\n",
    "                 'bsmt_qual','bsmt_type*sf_all', 'bsmt_exposure',\n",
    "                 'heating_qc','kitchen_qual', 'fireplace_qu', \n",
    "                 'quality_above_sqft', 'totrms_abvgrd', 'room_size']]"
   ]
  },
  {
   "cell_type": "code",
   "execution_count": 46,
   "metadata": {},
   "outputs": [],
   "source": [
    "ames_eval.to_csv('../datasets/ames_test_clean.csv', index = False)"
   ]
  },
  {
   "cell_type": "markdown",
   "metadata": {},
   "source": [
    "#### Read in clean training data set"
   ]
  },
  {
   "cell_type": "code",
   "execution_count": 47,
   "metadata": {},
   "outputs": [],
   "source": [
    "ames_clean = pd.read_csv('../datasets/ames_train_clean.csv')"
   ]
  },
  {
   "cell_type": "code",
   "execution_count": 48,
   "metadata": {},
   "outputs": [],
   "source": [
    "X_train = ames_clean.drop(columns=['saleprice'])\n",
    "y_train = ames_clean['saleprice']\n",
    "X_test = ames_eval.drop(columns= ['id'])"
   ]
  },
  {
   "cell_type": "code",
   "execution_count": 49,
   "metadata": {},
   "outputs": [
    {
     "name": "stdout",
     "output_type": "stream",
     "text": [
      "(2033, 30)\n",
      "(2033,)\n",
      "(878, 30)\n"
     ]
    }
   ],
   "source": [
    "print(X_train.shape)\n",
    "print(y_train.shape)\n",
    "print(X_test.shape)"
   ]
  },
  {
   "cell_type": "markdown",
   "metadata": {},
   "source": [
    "# LassoCV Model"
   ]
  },
  {
   "cell_type": "code",
   "execution_count": 153,
   "metadata": {},
   "outputs": [],
   "source": [
    "pipe_power = Pipeline([\n",
    "    ('poly', PolynomialFeatures(degree=4)), #uncomment me to release to power\n",
    "    ('sc', StandardScaler()),\n",
    "    ('lassocv', Lasso())\n",
    "])"
   ]
  },
  {
   "cell_type": "code",
   "execution_count": 154,
   "metadata": {},
   "outputs": [],
   "source": [
    "lasso_params = {'lassocv__alpha':np.logspace(-1, 2.5, 1000),\n",
    "               'lassocv__max_iter':[20000],\n",
    "                 'lassocv__tol':[.01],\n",
    "                'lassocv__warm_start':[True],\n",
    "                }"
   ]
  },
  {
   "cell_type": "code",
   "execution_count": 155,
   "metadata": {},
   "outputs": [],
   "source": [
    "pipe_gridsearch = GridSearchCV(\n",
    "                                pipe_power, \n",
    "                                param_grid=lasso_params,\n",
    "                                n_jobs= -1\n",
    "                            )"
   ]
  },
  {
   "cell_type": "code",
   "execution_count": null,
   "metadata": {},
   "outputs": [],
   "source": [
    "pipe_gridsearch.fit(X_train, y_train)\n",
    "pipe_gridsearch.best_estimator_"
   ]
  },
  {
   "cell_type": "code",
   "execution_count": null,
   "metadata": {},
   "outputs": [],
   "source": [
    "pipe_gridsearch.best_score_"
   ]
  },
  {
   "cell_type": "code",
   "execution_count": null,
   "metadata": {},
   "outputs": [],
   "source": [
    "X_test.shape"
   ]
  },
  {
   "cell_type": "code",
   "execution_count": null,
   "metadata": {},
   "outputs": [],
   "source": [
    "preds_lasso = pipe_gridsearch.predict(X_test)"
   ]
  },
  {
   "cell_type": "code",
   "execution_count": null,
   "metadata": {},
   "outputs": [],
   "source": [
    "ames_eval['SalePrice'] = preds_lasso"
   ]
  },
  {
   "cell_type": "code",
   "execution_count": null,
   "metadata": {},
   "outputs": [],
   "source": [
    "lasso_submission = ames_eval[['id', 'SalePrice']]"
   ]
  },
  {
   "cell_type": "code",
   "execution_count": null,
   "metadata": {},
   "outputs": [],
   "source": [
    "lasso_submission.head(3)"
   ]
  },
  {
   "cell_type": "code",
   "execution_count": null,
   "metadata": {},
   "outputs": [],
   "source": [
    "lasso_submission.to_csv('../datasets/kaggle_submission_lasso.csv', index = False) "
   ]
  },
  {
   "cell_type": "markdown",
   "metadata": {},
   "source": [
    "## Lasso Coef_ Evaluation"
   ]
  },
  {
   "cell_type": "code",
   "execution_count": 62,
   "metadata": {},
   "outputs": [
    {
     "data": {
      "text/plain": [
       "array([[-0.07300932, -0.35530817, -2.20997115, ...,  0.00951839,\n",
       "        -0.26508589,  0.3421764 ],\n",
       "       [-0.77235568, -0.35530817,  0.26680468, ...,  1.37130231,\n",
       "         1.05904093,  0.76130187],\n",
       "       [ 0.69294147, -0.35530817,  0.26680468, ..., -0.88421849,\n",
       "        -0.9271493 , -0.44242649],\n",
       "       ...,\n",
       "       [ 1.49219446,  0.58401759,  0.26680468, ...,  0.92866959,\n",
       "         1.72110434, -0.41659594],\n",
       "       [ 0.55973263, -0.35530817,  0.26680468, ..., -0.58136452,\n",
       "        -0.26508589, -0.69725478],\n",
       "       [-0.8389601 ,  0.58401759,  0.26680468, ...,  0.69782286,\n",
       "         0.39697752,  0.59285335]])"
      ]
     },
     "execution_count": 62,
     "metadata": {},
     "output_type": "execute_result"
    }
   ],
   "source": [
    "sc_lasso = StandardScaler()\n",
    "sc_lasso.fit_transform(X_train)"
   ]
  },
  {
   "cell_type": "code",
   "execution_count": 63,
   "metadata": {},
   "outputs": [],
   "source": [
    "lasso_lasso= Lasso(alpha = .1, max_iter=10000)"
   ]
  },
  {
   "cell_type": "code",
   "execution_count": 64,
   "metadata": {},
   "outputs": [
    {
     "data": {
      "text/plain": [
       "0.8988050962347371"
      ]
     },
     "execution_count": 64,
     "metadata": {},
     "output_type": "execute_result"
    }
   ],
   "source": [
    "lasso_lasso.fit(X_train, y_train)\n",
    "lasso_lasso.score(X_train, y_train)"
   ]
  },
  {
   "cell_type": "code",
   "execution_count": 65,
   "metadata": {},
   "outputs": [
    {
     "data": {
      "text/html": [
       "<div>\n",
       "<style scoped>\n",
       "    .dataframe tbody tr th:only-of-type {\n",
       "        vertical-align: middle;\n",
       "    }\n",
       "\n",
       "    .dataframe tbody tr th {\n",
       "        vertical-align: top;\n",
       "    }\n",
       "\n",
       "    .dataframe thead th {\n",
       "        text-align: right;\n",
       "    }\n",
       "</style>\n",
       "<table border=\"1\" class=\"dataframe\">\n",
       "  <thead>\n",
       "    <tr style=\"text-align: right;\">\n",
       "      <th></th>\n",
       "      <th>0</th>\n",
       "      <th>1</th>\n",
       "    </tr>\n",
       "  </thead>\n",
       "  <tbody>\n",
       "    <tr>\n",
       "      <th>0</th>\n",
       "      <td>age</td>\n",
       "      <td>-40.720077</td>\n",
       "    </tr>\n",
       "    <tr>\n",
       "      <th>1</th>\n",
       "      <td>neighborhood_order</td>\n",
       "      <td>7225.010517</td>\n",
       "    </tr>\n",
       "    <tr>\n",
       "      <th>2</th>\n",
       "      <td>local_conditions</td>\n",
       "      <td>8258.166213</td>\n",
       "    </tr>\n",
       "    <tr>\n",
       "      <th>3</th>\n",
       "      <td>was_remodeled</td>\n",
       "      <td>5096.676008</td>\n",
       "    </tr>\n",
       "    <tr>\n",
       "      <th>4</th>\n",
       "      <td>overall_qual</td>\n",
       "      <td>10058.504203</td>\n",
       "    </tr>\n",
       "    <tr>\n",
       "      <th>5</th>\n",
       "      <td>house_style_condensed_1.5</td>\n",
       "      <td>-1066.693583</td>\n",
       "    </tr>\n",
       "    <tr>\n",
       "      <th>6</th>\n",
       "      <td>house_style_condensed_2.0</td>\n",
       "      <td>-9937.681548</td>\n",
       "    </tr>\n",
       "    <tr>\n",
       "      <th>7</th>\n",
       "      <td>exter_qual</td>\n",
       "      <td>11691.375896</td>\n",
       "    </tr>\n",
       "    <tr>\n",
       "      <th>8</th>\n",
       "      <td>external_feature</td>\n",
       "      <td>973.657645</td>\n",
       "    </tr>\n",
       "    <tr>\n",
       "      <th>9</th>\n",
       "      <td>bldg_type_TwnhsE</td>\n",
       "      <td>-12536.109217</td>\n",
       "    </tr>\n",
       "    <tr>\n",
       "      <th>10</th>\n",
       "      <td>bldg_type_Twnhs</td>\n",
       "      <td>-10130.494380</td>\n",
       "    </tr>\n",
       "    <tr>\n",
       "      <th>11</th>\n",
       "      <td>bldg_type_2fmCon</td>\n",
       "      <td>-6210.934694</td>\n",
       "    </tr>\n",
       "    <tr>\n",
       "      <th>12</th>\n",
       "      <td>is_hip_roof</td>\n",
       "      <td>5515.225732</td>\n",
       "    </tr>\n",
       "    <tr>\n",
       "      <th>13</th>\n",
       "      <td>mas_vnr_area</td>\n",
       "      <td>22.489198</td>\n",
       "    </tr>\n",
       "    <tr>\n",
       "      <th>14</th>\n",
       "      <td>functional</td>\n",
       "      <td>12464.408539</td>\n",
       "    </tr>\n",
       "    <tr>\n",
       "      <th>15</th>\n",
       "      <td>lot_frontage</td>\n",
       "      <td>105.793312</td>\n",
       "    </tr>\n",
       "    <tr>\n",
       "      <th>16</th>\n",
       "      <td>lot_area</td>\n",
       "      <td>0.519682</td>\n",
       "    </tr>\n",
       "    <tr>\n",
       "      <th>17</th>\n",
       "      <td>developed_outside_sf</td>\n",
       "      <td>16.063375</td>\n",
       "    </tr>\n",
       "    <tr>\n",
       "      <th>18</th>\n",
       "      <td>garage_fin*sqft</td>\n",
       "      <td>8.714081</td>\n",
       "    </tr>\n",
       "    <tr>\n",
       "      <th>19</th>\n",
       "      <td>garage_cars</td>\n",
       "      <td>1668.912557</td>\n",
       "    </tr>\n",
       "    <tr>\n",
       "      <th>20</th>\n",
       "      <td>paved_drive</td>\n",
       "      <td>205.909570</td>\n",
       "    </tr>\n",
       "    <tr>\n",
       "      <th>21</th>\n",
       "      <td>bsmt_qual</td>\n",
       "      <td>2308.013219</td>\n",
       "    </tr>\n",
       "    <tr>\n",
       "      <th>22</th>\n",
       "      <td>bsmt_type*sf_all</td>\n",
       "      <td>4.723770</td>\n",
       "    </tr>\n",
       "    <tr>\n",
       "      <th>23</th>\n",
       "      <td>bsmt_exposure</td>\n",
       "      <td>2648.584057</td>\n",
       "    </tr>\n",
       "    <tr>\n",
       "      <th>24</th>\n",
       "      <td>heating_qc</td>\n",
       "      <td>1962.870618</td>\n",
       "    </tr>\n",
       "    <tr>\n",
       "      <th>25</th>\n",
       "      <td>kitchen_qual</td>\n",
       "      <td>9684.926395</td>\n",
       "    </tr>\n",
       "    <tr>\n",
       "      <th>26</th>\n",
       "      <td>fireplace_qu</td>\n",
       "      <td>1951.989240</td>\n",
       "    </tr>\n",
       "    <tr>\n",
       "      <th>27</th>\n",
       "      <td>quality_above_sqft</td>\n",
       "      <td>40.945368</td>\n",
       "    </tr>\n",
       "    <tr>\n",
       "      <th>28</th>\n",
       "      <td>totrms_abvgrd</td>\n",
       "      <td>1997.290531</td>\n",
       "    </tr>\n",
       "    <tr>\n",
       "      <th>29</th>\n",
       "      <td>room_size</td>\n",
       "      <td>61.072478</td>\n",
       "    </tr>\n",
       "  </tbody>\n",
       "</table>\n",
       "</div>"
      ],
      "text/plain": [
       "                            0             1\n",
       "0                         age    -40.720077\n",
       "1          neighborhood_order   7225.010517\n",
       "2            local_conditions   8258.166213\n",
       "3               was_remodeled   5096.676008\n",
       "4                overall_qual  10058.504203\n",
       "5   house_style_condensed_1.5  -1066.693583\n",
       "6   house_style_condensed_2.0  -9937.681548\n",
       "7                  exter_qual  11691.375896\n",
       "8            external_feature    973.657645\n",
       "9            bldg_type_TwnhsE -12536.109217\n",
       "10            bldg_type_Twnhs -10130.494380\n",
       "11           bldg_type_2fmCon  -6210.934694\n",
       "12                is_hip_roof   5515.225732\n",
       "13               mas_vnr_area     22.489198\n",
       "14                 functional  12464.408539\n",
       "15               lot_frontage    105.793312\n",
       "16                   lot_area      0.519682\n",
       "17       developed_outside_sf     16.063375\n",
       "18            garage_fin*sqft      8.714081\n",
       "19                garage_cars   1668.912557\n",
       "20                paved_drive    205.909570\n",
       "21                  bsmt_qual   2308.013219\n",
       "22           bsmt_type*sf_all      4.723770\n",
       "23              bsmt_exposure   2648.584057\n",
       "24                 heating_qc   1962.870618\n",
       "25               kitchen_qual   9684.926395\n",
       "26               fireplace_qu   1951.989240\n",
       "27         quality_above_sqft     40.945368\n",
       "28              totrms_abvgrd   1997.290531\n",
       "29                  room_size     61.072478"
      ]
     },
     "execution_count": 65,
     "metadata": {},
     "output_type": "execute_result"
    }
   ],
   "source": [
    "pd.DataFrame(list(zip(X_train.columns, lasso_lasso.coef_)))"
   ]
  },
  {
   "cell_type": "markdown",
   "metadata": {},
   "source": [
    "## LassoCV with Polynomial Features coef_ evaluation."
   ]
  },
  {
   "cell_type": "code",
   "execution_count": 94,
   "metadata": {},
   "outputs": [],
   "source": [
    "# # Instantiate our PolynomialFeatures object to create all two-way terms.\n",
    "# poly = PolynomialFeatures(degree=2, interaction_only=False, include_bias=False)\n",
    "\n",
    "# # Fit and transform our X data.\n",
    "# X_overfit = poly.fit_transform(X_train)"
   ]
  },
  {
   "cell_type": "code",
   "execution_count": 95,
   "metadata": {},
   "outputs": [],
   "source": [
    "#Uncomment to review all features that were created\n",
    "#poly.get_feature_names(X_train.columns)"
   ]
  },
  {
   "cell_type": "code",
   "execution_count": 96,
   "metadata": {},
   "outputs": [],
   "source": [
    "# X_overfit.shape #there are a lot of them"
   ]
  },
  {
   "cell_type": "code",
   "execution_count": 97,
   "metadata": {},
   "outputs": [],
   "source": [
    "# #scale\n",
    "# sc_ =  StandardScaler()\n",
    "# sc_.fit_transform(X_overfit)"
   ]
  },
  {
   "cell_type": "code",
   "execution_count": 98,
   "metadata": {},
   "outputs": [],
   "source": [
    "# #alpha based on trial run.\n",
    "# lasso = Lasso(alpha=115.13953993264481,max_iter=10000, tol=.1)\n",
    "# lasso.fit(X_overfit,y_train)\n",
    "# lasso.score(X_overfit, y_train)"
   ]
  },
  {
   "cell_type": "code",
   "execution_count": 99,
   "metadata": {},
   "outputs": [],
   "source": [
    "# #increase pandas default max_rows so I can view all coef_ columns at once\n",
    "# pd.options.display.max_rows = 600"
   ]
  },
  {
   "cell_type": "code",
   "execution_count": 100,
   "metadata": {},
   "outputs": [],
   "source": [
    "#lasso_coef = lasso.coef_\n",
    "#poly_columns = poly.get_feature_names(X_train.columns)\n",
    "#pd.DataFrame(list(zip(poly_columns, lasso_coef)))"
   ]
  },
  {
   "cell_type": "markdown",
   "metadata": {},
   "source": [
    "# Ridge Model"
   ]
  },
  {
   "cell_type": "code",
   "execution_count": 101,
   "metadata": {},
   "outputs": [],
   "source": [
    "# #create pipeline for ridge model\n",
    "# pipe_ridge = Pipeline([\n",
    "#     ('sc', StandardScaler()),\n",
    "#     ('ridge', Ridge())\n",
    "# ])"
   ]
  },
  {
   "cell_type": "code",
   "execution_count": 102,
   "metadata": {},
   "outputs": [],
   "source": [
    "# #create parameters for gridsearch\n",
    "# ridge_params1 = {'ridge__alpha':np.logspace(-1, 3, 50),\n",
    "#                'ridge__max_iter':[1000]}"
   ]
  },
  {
   "cell_type": "code",
   "execution_count": 103,
   "metadata": {},
   "outputs": [],
   "source": [
    "# #apply pipeline and gridsearch to GridSearchCV\n",
    "# pipe_ridge_gridsearch = GridSearchCV(\n",
    "#                                 pipe_ridge, \n",
    "#                                 param_grid=ridge_params1,\n",
    "#                             )"
   ]
  },
  {
   "cell_type": "code",
   "execution_count": 104,
   "metadata": {},
   "outputs": [],
   "source": [
    "# #fit best result from grid search\n",
    "# pipe_ridge_gridsearch.fit(X_train, y_train)\n",
    "# pipe_ridge_gridsearch.best_estimator_"
   ]
  },
  {
   "cell_type": "code",
   "execution_count": 105,
   "metadata": {},
   "outputs": [],
   "source": [
    "# pipe_ridge_gridsearch.best_score_ #this models score"
   ]
  },
  {
   "cell_type": "code",
   "execution_count": 106,
   "metadata": {},
   "outputs": [],
   "source": [
    "# preds_ridge = pipe_ridge_gridsearch.predict(X_test)"
   ]
  },
  {
   "cell_type": "code",
   "execution_count": 107,
   "metadata": {},
   "outputs": [],
   "source": [
    "# ames_eval['saleprice_ridge'] = preds_ridge\n",
    "# ridge_submission = ames_eval[['id', 'saleprice_ridge']]"
   ]
  },
  {
   "cell_type": "code",
   "execution_count": 108,
   "metadata": {},
   "outputs": [],
   "source": [
    "# ridge_submission.head(3)"
   ]
  },
  {
   "cell_type": "code",
   "execution_count": 85,
   "metadata": {},
   "outputs": [],
   "source": [
    "# Not using ridge files"
   ]
  },
  {
   "cell_type": "code",
   "execution_count": 86,
   "metadata": {},
   "outputs": [],
   "source": [
    "# #ridge submission file\n",
    "# ridge_submission.to_csv('../datasets/kaggle_ridge_submission.csv', index = False) "
   ]
  },
  {
   "cell_type": "markdown",
   "metadata": {},
   "source": [
    "# ElasticNetCV Model --best of both worlds"
   ]
  },
  {
   "cell_type": "code",
   "execution_count": 87,
   "metadata": {},
   "outputs": [],
   "source": [
    "pipe_mario = Pipeline([\n",
    "            ('poly', PolynomialFeatures(degree=3)),\n",
    "            ('sc', StandardScaler()),\n",
    "            ('elasticnet', ElasticNet())\n",
    "                        ])"
   ]
  },
  {
   "cell_type": "code",
   "execution_count": 88,
   "metadata": {},
   "outputs": [],
   "source": [
    "parameters_mario = {'elasticnet__alpha': np.logspace(-1, 2.5, 100),\n",
    "                      'elasticnet__normalize': [True],\n",
    "                      'elasticnet__selection': ['random'],\n",
    "                        'elasticnet__max_iter': [10000],\n",
    "                        'elasticnet__tol': [.01],\n",
    "                        'elasticnet__warm_start': [True]\n",
    "                       }"
   ]
  },
  {
   "cell_type": "code",
   "execution_count": 89,
   "metadata": {},
   "outputs": [
    {
     "data": {
      "text/plain": [
       "Pipeline(steps=[('poly', PolynomialFeatures(degree=3)),\n",
       "                ('sc', StandardScaler()),\n",
       "                ('elasticnet',\n",
       "                 ElasticNet(alpha=0.1, max_iter=10000, normalize=True,\n",
       "                            selection='random', tol=0.01))])"
      ]
     },
     "execution_count": 89,
     "metadata": {},
     "output_type": "execute_result"
    }
   ],
   "source": [
    "elastic_net_model = GridSearchCV(\n",
    "                pipe_mario, \n",
    "           param_grid= parameters_mario)\n",
    "elastic_net_model.fit(X_train, y_train)\n",
    "elastic_net_model.best_estimator_"
   ]
  },
  {
   "cell_type": "code",
   "execution_count": 90,
   "metadata": {},
   "outputs": [
    {
     "data": {
      "text/plain": [
       "0.8962916920578543"
      ]
     },
     "execution_count": 90,
     "metadata": {},
     "output_type": "execute_result"
    }
   ],
   "source": [
    "elastic_net_model.best_score_"
   ]
  },
  {
   "cell_type": "code",
   "execution_count": 91,
   "metadata": {},
   "outputs": [],
   "source": [
    "preds_elastic_net_model = elastic_net_model.predict(X_test)"
   ]
  },
  {
   "cell_type": "code",
   "execution_count": 92,
   "metadata": {},
   "outputs": [
    {
     "name": "stderr",
     "output_type": "stream",
     "text": [
      "<ipython-input-92-cba0bd51ae93>:1: SettingWithCopyWarning: \n",
      "A value is trying to be set on a copy of a slice from a DataFrame.\n",
      "Try using .loc[row_indexer,col_indexer] = value instead\n",
      "\n",
      "See the caveats in the documentation: https://pandas.pydata.org/pandas-docs/stable/user_guide/indexing.html#returning-a-view-versus-a-copy\n",
      "  ames_eval['saleprice_elasticnet'] = preds_elastic_net_model\n"
     ]
    },
    {
     "data": {
      "text/html": [
       "<div>\n",
       "<style scoped>\n",
       "    .dataframe tbody tr th:only-of-type {\n",
       "        vertical-align: middle;\n",
       "    }\n",
       "\n",
       "    .dataframe tbody tr th {\n",
       "        vertical-align: top;\n",
       "    }\n",
       "\n",
       "    .dataframe thead th {\n",
       "        text-align: right;\n",
       "    }\n",
       "</style>\n",
       "<table border=\"1\" class=\"dataframe\">\n",
       "  <thead>\n",
       "    <tr style=\"text-align: right;\">\n",
       "      <th></th>\n",
       "      <th>id</th>\n",
       "      <th>saleprice_elasticnet</th>\n",
       "    </tr>\n",
       "  </thead>\n",
       "  <tbody>\n",
       "    <tr>\n",
       "      <th>0</th>\n",
       "      <td>2658</td>\n",
       "      <td>122825.948242</td>\n",
       "    </tr>\n",
       "    <tr>\n",
       "      <th>1</th>\n",
       "      <td>2718</td>\n",
       "      <td>161982.957380</td>\n",
       "    </tr>\n",
       "    <tr>\n",
       "      <th>2</th>\n",
       "      <td>2414</td>\n",
       "      <td>218428.497596</td>\n",
       "    </tr>\n",
       "  </tbody>\n",
       "</table>\n",
       "</div>"
      ],
      "text/plain": [
       "     id  saleprice_elasticnet\n",
       "0  2658         122825.948242\n",
       "1  2718         161982.957380\n",
       "2  2414         218428.497596"
      ]
     },
     "execution_count": 92,
     "metadata": {},
     "output_type": "execute_result"
    }
   ],
   "source": [
    "ames_eval['SalePrice'] = preds_elastic_net_model\n",
    "submission = ames_eval[['id', 'SalePrice']]\n",
    "submission.head(3)"
   ]
  },
  {
   "cell_type": "code",
   "execution_count": 93,
   "metadata": {},
   "outputs": [],
   "source": [
    "#elastic net submission\n",
    "submission.to_csv('../datasets/kaggle_elasticnet_submission.csv', index = False)"
   ]
  },
  {
   "cell_type": "code",
   "execution_count": null,
   "metadata": {},
   "outputs": [],
   "source": []
  }
 ],
 "metadata": {
  "kernelspec": {
   "display_name": "Python 3",
   "language": "python",
   "name": "python3"
  },
  "language_info": {
   "codemirror_mode": {
    "name": "ipython",
    "version": 3
   },
   "file_extension": ".py",
   "mimetype": "text/x-python",
   "name": "python",
   "nbconvert_exporter": "python",
   "pygments_lexer": "ipython3",
   "version": "3.8.5"
  }
 },
 "nbformat": 4,
 "nbformat_minor": 4
}
